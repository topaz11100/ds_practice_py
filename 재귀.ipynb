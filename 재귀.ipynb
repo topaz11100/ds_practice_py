{
 "cells": [
  {
   "cell_type": "code",
   "execution_count": 12,
   "id": "1eb8402a-d097-4920-894b-76a65c18a6ac",
   "metadata": {},
   "outputs": [
    {
     "data": {
      "text/plain": [
       "(500500, 500500, 500500)"
      ]
     },
     "execution_count": 12,
     "metadata": {},
     "output_type": "execute_result"
    }
   ],
   "source": [
    "def sum_1(num):\n",
    "    return num * (num + 1) // 2\n",
    "\n",
    "def sum_iter(num):\n",
    "    result = 0\n",
    "    for i in range(1, num + 1):\n",
    "        result += i\n",
    "    return result\n",
    "\n",
    "def sum_recur(num):\n",
    "    if num == 1:\n",
    "        return num\n",
    "    return num + sum_recur(num - 1)\n",
    "\n",
    "test_case = 1000\n",
    "sum_1(test_case), sum_iter(test_case), sum_recur(test_case)"
   ]
  },
  {
   "cell_type": "code",
   "execution_count": 15,
   "id": "7fa99f1d-f002-4921-b754-3e4805592f17",
   "metadata": {},
   "outputs": [
    {
     "data": {
      "text/plain": [
       "(39916800, 39916800)"
      ]
     },
     "execution_count": 15,
     "metadata": {},
     "output_type": "execute_result"
    }
   ],
   "source": [
    "def fact_iter(num):\n",
    "    result = 1\n",
    "    for i in range(1, num + 1):\n",
    "        result *= i\n",
    "    return result\n",
    "\n",
    "def fact_recur(num):\n",
    "    if num <= 1:\n",
    "        return 1\n",
    "    return num * fact_recur( num - 1 )\n",
    "\n",
    "test_case = 11\n",
    "fact_iter(test_case), fact_recur(test_case)"
   ]
  },
  {
   "cell_type": "code",
   "execution_count": 23,
   "id": "0cc76262-b6df-4c84-b337-d4868d26ea08",
   "metadata": {},
   "outputs": [
    {
     "name": "stdout",
     "output_type": "stream",
     "text": [
      "9 * 9 = 81 : 9 * 8 = 72 : 9 * 7 = 63 : 9 * 6 = 54 : 9 * 5 = 45 : 9 * 4 = 36 : 9 * 3 = 27 : 9 * 2 = 18 : 9 * 1 = 9 : \n",
      "8 * 9 = 72 : 8 * 8 = 64 : 8 * 7 = 56 : 8 * 6 = 48 : 8 * 5 = 40 : 8 * 4 = 32 : 8 * 3 = 24 : 8 * 2 = 16 : 8 * 1 = 8 : \n",
      "7 * 9 = 63 : 7 * 8 = 56 : 7 * 7 = 49 : 7 * 6 = 42 : 7 * 5 = 35 : 7 * 4 = 28 : 7 * 3 = 21 : 7 * 2 = 14 : 7 * 1 = 7 : \n",
      "6 * 9 = 54 : 6 * 8 = 48 : 6 * 7 = 42 : 6 * 6 = 36 : 6 * 5 = 30 : 6 * 4 = 24 : 6 * 3 = 18 : 6 * 2 = 12 : 6 * 1 = 6 : \n",
      "5 * 9 = 45 : 5 * 8 = 40 : 5 * 7 = 35 : 5 * 6 = 30 : 5 * 5 = 25 : 5 * 4 = 20 : 5 * 3 = 15 : 5 * 2 = 10 : 5 * 1 = 5 : \n",
      "4 * 9 = 36 : 4 * 8 = 32 : 4 * 7 = 28 : 4 * 6 = 24 : 4 * 5 = 20 : 4 * 4 = 16 : 4 * 3 = 12 : 4 * 2 = 8 : 4 * 1 = 4 : \n",
      "3 * 9 = 27 : 3 * 8 = 24 : 3 * 7 = 21 : 3 * 6 = 18 : 3 * 5 = 15 : 3 * 4 = 12 : 3 * 3 = 9 : 3 * 2 = 6 : 3 * 1 = 3 : \n",
      "2 * 9 = 18 : 2 * 8 = 16 : 2 * 7 = 14 : 2 * 6 = 12 : 2 * 5 = 10 : 2 * 4 = 8 : 2 * 3 = 6 : 2 * 2 = 4 : 2 * 1 = 2 : \n",
      "1 * 9 = 9 : 1 * 8 = 8 : 1 * 7 = 7 : 1 * 6 = 6 : 1 * 5 = 5 : 1 * 4 = 4 : 1 * 3 = 3 : 1 * 2 = 2 : 1 * 1 = 1 : \n"
     ]
    }
   ],
   "source": [
    "def gugu(dan, num):\n",
    "    if dan == 0:\n",
    "        return\n",
    "    print(f'{dan} * {num} = {dan * num}', end = ' : ')\n",
    "    if num == 1:\n",
    "        print()\n",
    "        gugu(dan - 1, 9)\n",
    "    else:\n",
    "        gugu(dan, num - 1)\n",
    "\n",
    "gugu(9, 9)"
   ]
  },
  {
   "cell_type": "code",
   "execution_count": 27,
   "id": "a78ca437-2dfa-4525-9c44-7e049fed9b55",
   "metadata": {},
   "outputs": [],
   "source": [
    "import random\n",
    "\n",
    "def arrsum(arr, num = 0):\n",
    "    if num == len(arr) - 1:\n",
    "        return arr[num]\n",
    "    return arr[num] + arrsum(arr, num + 1)\n",
    "\n",
    "for i in range(10000000):\n",
    "    a = [random.randint(1, 100) for i in range(5)]\n",
    "    if sum(a) != arrsum(a):\n",
    "        print(\"error\")\n",
    "print(\"clear\")"
   ]
  },
  {
   "cell_type": "code",
   "execution_count": 49,
   "id": "334774c3-3ba5-4f21-99e0-297179db65f1",
   "metadata": {},
   "outputs": [
    {
     "data": {
      "text/plain": [
       "14930352"
      ]
     },
     "execution_count": 49,
     "metadata": {},
     "output_type": "execute_result"
    }
   ],
   "source": [
    "def fibo(n):\n",
    "    if n <= 1:\n",
    "        return 1\n",
    "    return fibo(n-1) + fibo(n-2)\n",
    "\n",
    "fibo(35)"
   ]
  },
  {
   "cell_type": "code",
   "execution_count": 51,
   "id": "ad9569a4-d1e2-40a6-ba2e-15d27c4ed7ed",
   "metadata": {},
   "outputs": [
    {
     "data": {
      "text/plain": [
       "89"
      ]
     },
     "execution_count": 51,
     "metadata": {},
     "output_type": "execute_result"
    }
   ],
   "source": [
    "def fino_dynamic(n, memo = {0 : 1, 1 : 1}):\n",
    "    if n in memo:\n",
    "        return memo[n]\n",
    "    memo[n] = fino_dynamic(n - 1) + fino_dynamic(n - 2)\n",
    "    return memo[n]\n",
    "\n",
    "fino_dynamic(10)"
   ]
  },
  {
   "cell_type": "code",
   "execution_count": 55,
   "id": "20c1d404-0685-477a-9142-2f9364f44e12",
   "metadata": {},
   "outputs": [
    {
     "data": {
      "text/plain": [
       "2"
      ]
     },
     "execution_count": 55,
     "metadata": {},
     "output_type": "execute_result"
    }
   ],
   "source": [
    "def fibo_iter(n):\n",
    "    pre, result = 1, 1\n",
    "    for _ in range(1, n):\n",
    "        pre, result = result, pre + result\n",
    "    return result\n",
    "\n",
    "fibo_iter(2)"
   ]
  },
  {
   "cell_type": "code",
   "execution_count": 68,
   "id": "61870a40-620f-46a5-9bc7-bb9af4ec3da5",
   "metadata": {},
   "outputs": [
    {
     "data": {
      "text/plain": [
       "True"
      ]
     },
     "execution_count": 68,
     "metadata": {},
     "output_type": "execute_result"
    }
   ],
   "source": [
    "def pal(string):\n",
    "    string = string.lower().replace(' ', '')\n",
    "    \n",
    "    def __pal(string):\n",
    "        if len(string) <= 1:\n",
    "            return True\n",
    "        if string[0] != string[-1]:\n",
    "            return False\n",
    "        return __pal(string[1:-1])\n",
    "        \n",
    "    return __pal(string)\n",
    "\n",
    "pal(\"아 이아\")"
   ]
  },
  {
   "cell_type": "code",
   "execution_count": 85,
   "id": "4000e8e1-561c-414f-af50-ca5ab287dc4f",
   "metadata": {},
   "outputs": [
    {
     "data": {
      "text/plain": [
       "'1100100'"
      ]
     },
     "execution_count": 85,
     "metadata": {},
     "output_type": "execute_result"
    }
   ],
   "source": [
    "def basechange(dec, base):\n",
    "    result = ''\n",
    "    def func(dec, base):\n",
    "        nonlocal result\n",
    "        if dec < base:\n",
    "            result = str(dec) + result\n",
    "            return\n",
    "        result = str( dec % base ) + result\n",
    "        func(dec // 2, base)\n",
    "    func(dec, base)\n",
    "    return result\n",
    "\n",
    "basechange(100, 16)"
   ]
  },
  {
   "cell_type": "code",
   "execution_count": null,
   "id": "dc39a1ec-53e4-4601-a9d4-4f6940a5ce49",
   "metadata": {},
   "outputs": [],
   "source": []
  }
 ],
 "metadata": {
  "kernelspec": {
   "display_name": "Python 3 (ipykernel)",
   "language": "python",
   "name": "python3"
  },
  "language_info": {
   "codemirror_mode": {
    "name": "ipython",
    "version": 3
   },
   "file_extension": ".py",
   "mimetype": "text/x-python",
   "name": "python",
   "nbconvert_exporter": "python",
   "pygments_lexer": "ipython3",
   "version": "3.12.3"
  }
 },
 "nbformat": 4,
 "nbformat_minor": 5
}
