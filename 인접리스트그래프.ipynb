{
 "cells": [
  {
   "cell_type": "code",
   "execution_count": 1,
   "id": "a4e0a657-5b37-413e-b685-d8efd46fc391",
   "metadata": {},
   "outputs": [],
   "source": [
    "class Lgraph():\n",
    "    def __init__(self):\n",
    "        self.graph = dict()\n",
    "        \n",
    "    def append_node(self, node):\n",
    "        self.graph[node] = set()\n",
    "        \n",
    "    def append_edge(self, start, end, direction = False):\n",
    "        self.graph[start].add(end)\n",
    "        if not direction:\n",
    "            self.graph[end].add(start)\n",
    "            \n",
    "    def dfs(self, node, func):\n",
    "        visited = { k : False for k in self.graph.keys() }\n",
    "        def dfs_recursion(now):\n",
    "            func(now)\n",
    "            visited[now] = True\n",
    "            for i in self.graph[now]:\n",
    "                if not visited[i]:\n",
    "                    dfs_recursion(i)\n",
    "        dfs_recursion(node)\n",
    "        \n",
    "    def bfs(self, node, func):\n",
    "        visited = { k : False for k in self.graph.keys() }\n",
    "        queue = [node]\n",
    "        visited[node] = True\n",
    "        while queue:\n",
    "            now = queue.pop(0)\n",
    "            func(now)\n",
    "            for i in self.graph[now]:\n",
    "                if not visited[i]:\n",
    "                    visited[i] = True\n",
    "                    queue.append(i)\n",
    "                    \n",
    "        \n",
    "    def __str__(self):\n",
    "        return self.graph.__str__()\n",
    "         "
   ]
  },
  {
   "cell_type": "code",
   "execution_count": 4,
   "id": "727c8301-93da-4dec-96b4-4eee0ea639c2",
   "metadata": {},
   "outputs": [
    {
     "name": "stdout",
     "output_type": "stream",
     "text": [
      "{0: {0}, 1: {5, 7}, 2: {4, 6}, 3: {3, 5, 6}, 4: {2, 4, 6}, 5: {1, 3, 6}, 6: {2, 3, 4, 5}, 7: {1}}\n",
      "1\n",
      "5\n",
      "3\n",
      "6\n",
      "2\n",
      "4\n",
      "7\n"
     ]
    }
   ],
   "source": [
    "import random\n",
    "a = [0,1,2,3,4,5,6,7]\n",
    "g = Lgraph()\n",
    "for i in a:\n",
    "    g.append_node(i)\n",
    "for k in [( random.randint(0, 7), random.randint(0, 7) ) for _ in range(12)]:\n",
    "    g.append_edge(*k)\n",
    "\n",
    "print(g)\n",
    "g.dfs(1, print)"
   ]
  },
  {
   "cell_type": "code",
   "execution_count": null,
   "id": "476bc504-465b-41f7-bcbe-a3b20c0a244d",
   "metadata": {},
   "outputs": [],
   "source": []
  }
 ],
 "metadata": {
  "kernelspec": {
   "display_name": "Python 3 (ipykernel)",
   "language": "python",
   "name": "python3"
  },
  "language_info": {
   "codemirror_mode": {
    "name": "ipython",
    "version": 3
   },
   "file_extension": ".py",
   "mimetype": "text/x-python",
   "name": "python",
   "nbconvert_exporter": "python",
   "pygments_lexer": "ipython3",
   "version": "3.10.8"
  }
 },
 "nbformat": 4,
 "nbformat_minor": 5
}
