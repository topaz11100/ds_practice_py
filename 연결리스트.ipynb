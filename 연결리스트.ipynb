{
 "cells": [
  {
   "cell_type": "code",
   "execution_count": 1,
   "id": "ce8fd7d9-877e-412d-a38a-1bb9ef9b5938",
   "metadata": {},
   "outputs": [],
   "source": [
    "class SimpleNode():\n",
    "    def __init__(self, data=None, link=None):\n",
    "        self.data = data\n",
    "        self.link = link\n",
    "\n",
    "    def set(self, data, link):\n",
    "        self.data = data\n",
    "        self.link = link"
   ]
  },
  {
   "cell_type": "code",
   "execution_count": 2,
   "id": "f8a0415c-ebd5-422e-b7ce-3b5afb20aea9",
   "metadata": {},
   "outputs": [],
   "source": [
    "class SimpleList():\n",
    "    def __init__(self):\n",
    "        self.head = None\n",
    "        self.len = 0\n",
    "\n",
    "    def is_valueerror(self, index, mode=0):\n",
    "        if index == 0:\n",
    "            return\n",
    "        if index < 0 or index >= self.len + mode:\n",
    "            raise ValueError\n",
    "            \n",
    "    def __getnode(self, index):\n",
    "        now = self.head\n",
    "        for _ in range(index):\n",
    "            now = now.link\n",
    "        return now\n",
    "\n",
    "    def append_front(self, data):\n",
    "        node = SimpleNode(data, self.head)\n",
    "        self.head = node\n",
    "        self.len += 1\n",
    "\n",
    "    def append(self, data):\n",
    "        if not self.head:\n",
    "            self.append_front(data)\n",
    "            return\n",
    "        self.__getnode(self.len - 1).link = SimpleNode(data, None)\n",
    "        self.len += 1\n",
    "\n",
    "    def insert(self, data, index):\n",
    "        self.is_valueerror(index, 1)\n",
    "        \n",
    "        if index == 0 :\n",
    "            self.append_front(data)\n",
    "            return\n",
    "        if index == self.len:\n",
    "            self.append(data)\n",
    "            return\n",
    "            \n",
    "        pre = self.__getnode(index - 1)\n",
    "        input_node = SimpleNode(data, pre.link)\n",
    "        pre.link = input_node\n",
    "        self.len += 1\n",
    "\n",
    "    def delete(self, index):\n",
    "        self.is_valueerror(index, mode=0)\n",
    "        \n",
    "        if self.len == 1:\n",
    "            self.head = None\n",
    "            return\n",
    "            \n",
    "        if index == 0:\n",
    "            now = self.head\n",
    "            self.head = now.link\n",
    "        else:\n",
    "            pre = self.__getnode(index - 1)\n",
    "            now = pre.link\n",
    "            pre.link = pre.link.link\n",
    "        \n",
    "        del(now)\n",
    "        self.len -= 1\n",
    "\n",
    "    def __getitem__(self, index):\n",
    "        self.is_valueerror(index)\n",
    "        now = self.__getnode(index)\n",
    "        return now if not now else now.data\n",
    "\n",
    "    def __str__(self):\n",
    "        result = \"\"\n",
    "        now = self.head\n",
    "        while now:\n",
    "            result += str(now.data) + \" \"\n",
    "            now = now.link\n",
    "        return result\n",
    "\n",
    "    def __len__(self):\n",
    "        return self.len"
   ]
  },
  {
   "cell_type": "code",
   "execution_count": null,
   "id": "46edfd1d",
   "metadata": {},
   "outputs": [],
   "source": [
    "a=SimpleList()\n",
    "a.append_front(\"a\")\n",
    "print(a)"
   ]
  },
  {
   "cell_type": "code",
   "execution_count": 13,
   "id": "fc5c3de3-04b4-42b4-bd05-0a457c6e4a58",
   "metadata": {},
   "outputs": [],
   "source": [
    "def order_put(array, data):\n",
    "    if not len(array):\n",
    "        array.append_front(data)\n",
    "        return\n",
    "    for i in range(len(array)):\n",
    "        if array[i][1] > data[1]:\n",
    "            array.insert(data, i)\n",
    "            return\n",
    "    array.append(data)"
   ]
  },
  {
   "cell_type": "code",
   "execution_count": 14,
   "id": "d7d1cdba-3167-463a-8526-ecb6cac01f36",
   "metadata": {},
   "outputs": [],
   "source": [
    "def main():\n",
    "    data = SimpleList()\n",
    "    while True:\n",
    "        name, email = input(\"이름 -> \"), input(\"이메일 -> \")\n",
    "        if not name:\n",
    "            break\n",
    "        order_put(data, [name, email])\n",
    "    print(data)\n",
    "    "
   ]
  },
  {
   "cell_type": "code",
   "execution_count": 15,
   "id": "56843d3e-4504-49ad-a2a7-9ad08c524729",
   "metadata": {},
   "outputs": [
    {
     "name": "stdout",
     "output_type": "stream",
     "text": [
      "\n"
     ]
    }
   ],
   "source": [
    "main()"
   ]
  },
  {
   "cell_type": "code",
   "execution_count": null,
   "id": "520fe1e3-99cf-4ade-bd75-e1462cc27444",
   "metadata": {},
   "outputs": [],
   "source": []
  }
 ],
 "metadata": {
  "kernelspec": {
   "display_name": "Python 3 (ipykernel)",
   "language": "python",
   "name": "python3"
  },
  "language_info": {
   "codemirror_mode": {
    "name": "ipython",
    "version": 3
   },
   "file_extension": ".py",
   "mimetype": "text/x-python",
   "name": "python",
   "nbconvert_exporter": "python",
   "pygments_lexer": "ipython3",
   "version": "3.10.8"
  }
 },
 "nbformat": 4,
 "nbformat_minor": 5
}
