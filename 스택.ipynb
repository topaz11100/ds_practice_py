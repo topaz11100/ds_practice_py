{
 "cells": [
  {
   "cell_type": "code",
   "execution_count": 1,
   "id": "295aecf3-79bd-4f09-9877-19611d9f840b",
   "metadata": {},
   "outputs": [],
   "source": [
    "class Stack():\n",
    "    def __init__(self, length):\n",
    "        self.data = [None for i in range(length)]\n",
    "        self.top = -1\n",
    "        self.__length = length\n",
    "        \n",
    "    def push(self, data):\n",
    "        if self.top == self.__length - 1:\n",
    "            raise Exception(\"full\")\n",
    "        self.top += 1\n",
    "        self.data[self.top] = data\n",
    "        \n",
    "    def pop(self):\n",
    "        if self.top == -1:\n",
    "            raise Exception(\"empty\")\n",
    "        result, self.data[self.top] = self.data[self.top], None\n",
    "        self.top -= 1\n",
    "        return result\n",
    "\n",
    "    def peek(self):\n",
    "        return self.data[self.top]\n",
    "\n",
    "    def search(self, data):\n",
    "        for i in range(self.top, -1, -1):\n",
    "            if self.data[i] == data:\n",
    "                return i\n",
    "        return -1\n",
    "        \n",
    "    def status(self):\n",
    "        print(f'top = {self.top}')\n",
    "        for i in range(self.top, -1, -1):\n",
    "            print(f'id = {i}, data = {self.data[i]}')\n",
    "        \n",
    "    def __len__(self):\n",
    "        return self.__length\n",
    "    def __repr__(self):\n",
    "        return self.data.__repr__()\n",
    "    def __str__(self):\n",
    "        return self.data.__str__()"
   ]
  },
  {
   "cell_type": "code",
   "execution_count": 41,
   "id": "8a1cf939-782e-436a-8cc0-52b848892657",
   "metadata": {},
   "outputs": [
    {
     "data": {
      "text/plain": [
       "True"
      ]
     },
     "execution_count": 41,
     "metadata": {},
     "output_type": "execute_result"
    }
   ],
   "source": [
    "bracket = {'>':'<', ')':'(', '}':'{', ']':'['}\n",
    "\n",
    "def is_match(string):\n",
    "    status = Stack( len(string) )\n",
    "    try:\n",
    "        for i in string:\n",
    "            if i in bracket.values():\n",
    "                status.push(i)\n",
    "            if i in bracket.keys():\n",
    "                if bracket[i] != status.pop():\n",
    "                    return False\n",
    "    except:\n",
    "        return False\n",
    "    if status.top == -1:\n",
    "        return True\n",
    "    else:\n",
    "        return False\n",
    "\n",
    "    \n",
    "is_match(\"(<(<(<{(<>)}>)>)>)            ()\")"
   ]
  },
  {
   "cell_type": "code",
   "execution_count": 45,
   "id": "6d48724b-187b-43fa-9699-c1ac90c3c4aa",
   "metadata": {},
   "outputs": [
    {
     "name": "stdout",
     "output_type": "stream",
     "text": [
      "공백으로 구분해 입력 a b c d e f g\n"
     ]
    },
    {
     "name": "stdout",
     "output_type": "stream",
     "text": [
      "가는길 : 내집 -> a -> b -> c -> d -> e -> f -> g -> 과자집\n",
      "오는길 : 과자집 ->g -> f -> e -> d -> c -> b -> a -> 내집\n"
     ]
    }
   ],
   "source": [
    "def main():\n",
    "    promft = input(\"공백으로 구분해 입력\")\n",
    "    location_list = promft.split()\n",
    "    location_stack = Stack(len(location_list) + 2)\n",
    "    \n",
    "    for i in location_list:\n",
    "        location_stack.push(i)\n",
    "    \n",
    "    print(\"가는길 : 내집 -> \", end='')\n",
    "    for i in location_list:\n",
    "        print(f'{i} -> ', end = '')\n",
    "    print(\"과자집\")\n",
    "    \n",
    "    print(\"오는길 : 과자집 ->\", end='')\n",
    "    while location_stack.top != -1:\n",
    "        print(f'{location_stack.pop()} -> ', end='')\n",
    "    print(\"내집\")\n",
    "\n",
    "main()"
   ]
  },
  {
   "cell_type": "code",
   "execution_count": 51,
   "id": "8ede78f8-424f-47c1-90cf-4ae6061f29d9",
   "metadata": {},
   "outputs": [],
   "source": [
    "read_file_path = 'test.txt'\n",
    "print_file_path = 'test2.txt'\n",
    "\n",
    "\n",
    "\n",
    "with open(read_file_path, 'r') as file:\n",
    "    content = file.read()\n",
    "    s = Stack( len(content) )\n",
    "    for i in content:\n",
    "        s.push(i)\n",
    "    result = ''\n",
    "    while s.top != -1:\n",
    "        result += s.pop()\n",
    "    with open(print_file_path, 'w') as printfile:\n",
    "        printfile.write(result)"
   ]
  },
  {
   "cell_type": "code",
   "execution_count": null,
   "id": "daf13919-4409-45f8-b04b-4dc11ba1afd0",
   "metadata": {},
   "outputs": [],
   "source": []
  }
 ],
 "metadata": {
  "kernelspec": {
   "display_name": "Python 3 (ipykernel)",
   "language": "python",
   "name": "python3"
  },
  "language_info": {
   "codemirror_mode": {
    "name": "ipython",
    "version": 3
   },
   "file_extension": ".py",
   "mimetype": "text/x-python",
   "name": "python",
   "nbconvert_exporter": "python",
   "pygments_lexer": "ipython3",
   "version": "3.10.8"
  }
 },
 "nbformat": 4,
 "nbformat_minor": 5
}
