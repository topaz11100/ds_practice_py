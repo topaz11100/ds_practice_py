{
 "cells": [
  {
   "cell_type": "code",
   "execution_count": 39,
   "id": "48343e33-d132-4c57-ac6e-52711108d6dd",
   "metadata": {},
   "outputs": [],
   "source": [
    "class Array():\n",
    "    def __init__(self):\n",
    "        self.data = []\n",
    "        self.length = 0\n",
    "\n",
    "    def append(self, val):\n",
    "        self.data.append(val)\n",
    "        self.length+=1\n",
    "        \n",
    "    def insert(self, index, val):\n",
    "        self.__lenerror(index)\n",
    "        self.data.append(None)\n",
    "        self.length+=1\n",
    "        for i in range(self.length-1, index, -1):\n",
    "            self.data[i], self.data[i-1] = self.data[i-1], self.data[i]\n",
    "        self.data[index] = val\n",
    "        \n",
    "    def delete(self, index):\n",
    "        self.__lenerror(index)\n",
    "        for i in range(index, self.length-1):\n",
    "            self.data[i], self.data[i+1] = self.data[i+1], self.data[i]\n",
    "        del self.data[-1]\n",
    "        self.length-=1\n",
    "\n",
    "    def __lenerror(self, num):\n",
    "        if num<0 or num>=self.length:\n",
    "            raise\n",
    "\n",
    "    def __len__(self):\n",
    "        return self.length\n",
    "\n",
    "    def __getitem__(self, index):\n",
    "        return self.data[index]\n",
    "\n",
    "    def __str__(self):\n",
    "        return f'{self.data}'"
   ]
  },
  {
   "cell_type": "code",
   "execution_count": 40,
   "id": "80090fd2-366d-4557-8001-46fd8c883d03",
   "metadata": {},
   "outputs": [],
   "source": [
    "def findinsert(array, val):\n",
    "    index = 0\n",
    "    for i in range(len(array)):\n",
    "        if val[-1] >= array[i][-1]:\n",
    "            index = i\n",
    "            break\n",
    "    array.insert(index, val)"
   ]
  },
  {
   "cell_type": "code",
   "execution_count": 41,
   "id": "a58db91a-3aee-43b6-b481-63c1cdf5d1ea",
   "metadata": {},
   "outputs": [
    {
     "name": "stdout",
     "output_type": "stream",
     "text": [
      "5\n",
      "[('0', 100), ('1', 90), ('x', 85), ('2', 80), ('3', 70), ('4', 60)]\n"
     ]
    }
   ],
   "source": [
    "a = Array()\n",
    "a.append( ('0', 100) )\n",
    "a.append( ('1', 90) )\n",
    "a.append( ('2', 80) )\n",
    "a.append( ('3', 70) )\n",
    "a.append( ('4', 60) )\n",
    "print(len(a))\n",
    "findinsert(a, ('x', 85) )\n",
    "print(a)"
   ]
  },
  {
   "cell_type": "code",
   "execution_count": 42,
   "id": "a41dfd6b-f454-47d8-ad25-56592e49d9bf",
   "metadata": {},
   "outputs": [],
   "source": [
    "class Poly:\n",
    "    def __init__(self):\n",
    "        self.data = [ [], [] ]\n",
    "        \n",
    "    def plus(self, val):\n",
    "        if not val[0] in self.data[0]:\n",
    "            self.data[0].append(val[0])\n",
    "            self.data[1].append(val[1])\n",
    "            return\n",
    "        for i, d in enumerate(self.data[0]):\n",
    "            if val[0] == d:\n",
    "                self.data[1][i] += val[1]\n",
    "        \n",
    "    def __add__(self, p2):\n",
    "        result = Poly()\n",
    "        for i in list(zip(self.data[0], self.data[1])):\n",
    "            result.plus(i)\n",
    "        for i in list(zip(p2.data[0], p2.data[1])):\n",
    "            result.plus(i)\n",
    "        return result\n",
    "\n",
    "    def __str__(self):\n",
    "        result = \"\"\n",
    "        for i in zip(self.data[0], self.data[1]):\n",
    "            if i[1] == 0:\n",
    "                continue\n",
    "            if i[1]>0:\n",
    "                result+='+'\n",
    "            result+=f'{i[1]}x^{i[0]}'\n",
    "        return result"
   ]
  },
  {
   "cell_type": "code",
   "execution_count": 43,
   "id": "4a8c1193-056a-46dd-b33b-181ce72a88be",
   "metadata": {},
   "outputs": [
    {
     "name": "stdout",
     "output_type": "stream",
     "text": [
      "+5x^1\n",
      "[[2, 1], [4, 3]]\n",
      "+8x^1+4x^2\n"
     ]
    }
   ],
   "source": [
    "a=Poly()\n",
    "b=Poly()\n",
    "a.plus( (1,5) )\n",
    "b.plus( (2,4) )\n",
    "b.plus( (1,3) )\n",
    "print(a)\n",
    "print(b.data)\n",
    "print(a+b)"
   ]
  },
  {
   "cell_type": "code",
   "execution_count": null,
   "id": "d12cbdde-d726-4cb7-82cb-17a2681f72b5",
   "metadata": {},
   "outputs": [],
   "source": []
  },
  {
   "cell_type": "code",
   "execution_count": null,
   "id": "4289d165-9c33-41ec-94d9-9685258fc9d5",
   "metadata": {},
   "outputs": [],
   "source": []
  },
  {
   "cell_type": "code",
   "execution_count": null,
   "id": "9a84274d-a79d-48f0-bb87-7c7e155dcc6f",
   "metadata": {},
   "outputs": [],
   "source": []
  }
 ],
 "metadata": {
  "kernelspec": {
   "display_name": "Python 3 (ipykernel)",
   "language": "python",
   "name": "python3"
  },
  "language_info": {
   "codemirror_mode": {
    "name": "ipython",
    "version": 3
   },
   "file_extension": ".py",
   "mimetype": "text/x-python",
   "name": "python",
   "nbconvert_exporter": "python",
   "pygments_lexer": "ipython3",
   "version": "3.10.8"
  }
 },
 "nbformat": 4,
 "nbformat_minor": 5
}
