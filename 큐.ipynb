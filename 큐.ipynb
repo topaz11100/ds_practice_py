{
 "cells": [
  {
   "cell_type": "code",
   "execution_count": 1,
   "id": "b28ab9d4-10e0-47a7-898b-874aa5c51042",
   "metadata": {},
   "outputs": [],
   "source": [
    "class Queue():\n",
    "    def __init__(self, length):\n",
    "        self.data = [None] * length\n",
    "        self.len = length\n",
    "        self.front = -1\n",
    "        self.rear = -1\n",
    "    def enqueue(self, data):\n",
    "        self.rear += 1\n",
    "        self.data[ self.rear ] = data\n",
    "    def dequeue(self):\n",
    "        self.front += 1\n",
    "        result, self.data[ self.front ] = self.data[ self.front ], None\n",
    "        return result\n",
    "    def peek(self):\n",
    "        return self.data[self.front + 1]\n",
    "        \n",
    "    def __str__(self):\n",
    "        return self.data.__str__()\n",
    "    def __repr__(self):\n",
    "        return self.data.__repr__()"
   ]
  },
  {
   "cell_type": "code",
   "execution_count": 7,
   "id": "6d5786d9-12bd-4d01-9c83-fdeac2662093",
   "metadata": {},
   "outputs": [
    {
     "data": {
      "text/plain": [
       "[None, None, None, 10, None]"
      ]
     },
     "execution_count": 7,
     "metadata": {},
     "output_type": "execute_result"
    }
   ],
   "source": [
    "a = Queue(5)\n",
    "a.enqueue(1)\n",
    "a.enqueue(2)\n",
    "a.enqueue(3)\n",
    "a.dequeue()\n",
    "a.dequeue()\n",
    "a.dequeue()\n",
    "a.enqueue(10)\n",
    "a"
   ]
  },
  {
   "cell_type": "code",
   "execution_count": 50,
   "id": "5c8d5ceb-0f38-481f-83e1-a02b275b875b",
   "metadata": {},
   "outputs": [],
   "source": [
    "class CircleQueue():\n",
    "    def __init__(self, length):\n",
    "        self.len = length + 1\n",
    "        self.data = [None] * self.len\n",
    "        self.front = 0\n",
    "        self.rear = 0\n",
    "        \n",
    "    def enqueue(self, data):\n",
    "        if self.isFull():\n",
    "            raise Exception(\"full\")\n",
    "        self.data[ self.rear ] = data\n",
    "        self.rear = (self.rear + 1) % self.len\n",
    "        \n",
    "    def dequeue(self):\n",
    "        if self.isEmpty():\n",
    "            raise Exception(\"empty\")\n",
    "        result, self.data[ self.front ] = self.data[ self.front ], None\n",
    "        self.front = (self.front + 1) % self.len\n",
    "        return result\n",
    "        \n",
    "    def peek(self):\n",
    "        return self.data[self.front]\n",
    "\n",
    "    def isFull(self):\n",
    "        if (self.rear + 1) % self.len == self.front:\n",
    "            return True\n",
    "        else:\n",
    "            return False\n",
    "    def isEmpty(self):\n",
    "        if self.rear == self.front:\n",
    "            return True\n",
    "        else:\n",
    "            return False\n",
    "\n",
    "    def size(self):\n",
    "        if self.rear < self.front:\n",
    "            return self.rear + self.len - self.front\n",
    "        return self.rear - self.front\n",
    "    def __len__(self):\n",
    "        return self.len - 1\n",
    "        \n",
    "    def __str__(self):\n",
    "        return self.data.__str__()\n",
    "    def __repr__(self):\n",
    "        return self.data.__repr__()"
   ]
  },
  {
   "cell_type": "code",
   "execution_count": 59,
   "id": "3d830dfd-1b18-4414-9cea-2812d6a661ba",
   "metadata": {},
   "outputs": [
    {
     "data": {
      "text/plain": [
       "([1, 1, None, None, None, 1], 3)"
      ]
     },
     "execution_count": 59,
     "metadata": {},
     "output_type": "execute_result"
    }
   ],
   "source": [
    "q = CircleQueue(5)\n",
    "q.enqueue(1)\n",
    "q.enqueue(2)\n",
    "q.enqueue(3)\n",
    "q.enqueue(4)\n",
    "q.dequeue()\n",
    "q.dequeue()\n",
    "q.dequeue()\n",
    "q.dequeue()\n",
    "q.enqueue(1)\n",
    "q.enqueue(1)\n",
    "q.enqueue(1)\n",
    "q.enqueue(1)\n",
    "q.dequeue()\n",
    "\n",
    "q, q.size()"
   ]
  },
  {
   "cell_type": "code",
   "execution_count": 65,
   "id": "2164dc46-11d3-4b3f-8b83-c80af8a882f2",
   "metadata": {},
   "outputs": [],
   "source": [
    "class Agent():\n",
    "    callLimit = 5\n",
    "    def __init__(self):\n",
    "        self.callLimit = Agent.callLimit\n",
    "        self.daywork = CircleQueue( self.callLimit )\n",
    "        self.time = 0\n",
    "        \n",
    "    def call(self):\n",
    "        if self.daywork.isEmpty():\n",
    "            return True\n",
    "        self.time -= self.daywork.dequeue()[1]\n",
    "        \n",
    "    def work(self, data):\n",
    "        if self.daywork.isFull():\n",
    "            return True\n",
    "        self.daywork.enqueue(data)\n",
    "        self.time += data[1]\n",
    "    \n",
    "    def status(self):\n",
    "        return f'콜 큐 = {self.daywork}, 남은 콜 수 = {self.daywork.size()}, 예상 시간 = {self.time}'"
   ]
  },
  {
   "cell_type": "code",
   "execution_count": 66,
   "id": "7d329504-da9f-44bd-98ea-52324e874487",
   "metadata": {},
   "outputs": [
    {
     "name": "stdout",
     "output_type": "stream",
     "text": [
      "콜 추가 = 1, 콜 받기 = 2, 상태 확인 = 3, 종료 = 4\n"
     ]
    },
    {
     "name": "stdin",
     "output_type": "stream",
     "text": [
      " 1\n",
      " 1\n",
      " 1\n",
      " 1\n",
      " 1\n",
      " 1\n"
     ]
    },
    {
     "name": "stdout",
     "output_type": "stream",
     "text": [
      "꽉 찼습니다\n"
     ]
    },
    {
     "name": "stdin",
     "output_type": "stream",
     "text": [
      " 3\n"
     ]
    },
    {
     "name": "stdout",
     "output_type": "stream",
     "text": [
      "콜 큐 = [('고장', 3), ('고장', 3), ('환불', 4), ('기타', 1), ('기타', 1), None], 남은 콜 수 = 5, 예상 시간 = 12\n"
     ]
    },
    {
     "name": "stdin",
     "output_type": "stream",
     "text": [
      " 2\n",
      " 3\n"
     ]
    },
    {
     "name": "stdout",
     "output_type": "stream",
     "text": [
      "콜 큐 = [None, ('고장', 3), ('환불', 4), ('기타', 1), ('기타', 1), None], 남은 콜 수 = 4, 예상 시간 = 9\n"
     ]
    },
    {
     "name": "stdin",
     "output_type": "stream",
     "text": [
      " 2\n",
      " 2\n",
      " 3\n"
     ]
    },
    {
     "name": "stdout",
     "output_type": "stream",
     "text": [
      "콜 큐 = [None, None, None, ('기타', 1), ('기타', 1), None], 남은 콜 수 = 2, 예상 시간 = 2\n"
     ]
    },
    {
     "name": "stdin",
     "output_type": "stream",
     "text": [
      " 4\n"
     ]
    }
   ],
   "source": [
    "import random\n",
    "CALL = ( ('고장', 3), ('사용', 9), ('환불', 4), ('기타', 1) )\n",
    "\n",
    "def main():\n",
    "    a = Agent()\n",
    "    print(\"콜 추가 = 1, 콜 받기 = 2, 상태 확인 = 3, 종료 = 4\")\n",
    "    while True:\n",
    "        i = int(input())\n",
    "        if i == 4:\n",
    "            break\n",
    "        if i == 1:\n",
    "            if a.work( random.choice(CALL) ):\n",
    "                print(\"꽉 찼습니다\")\n",
    "        elif i == 2:\n",
    "            if a.call():\n",
    "                print(\"비었습니다\")\n",
    "        elif i == 3:\n",
    "            print( a.status() )\n",
    "\n",
    "main()"
   ]
  },
  {
   "cell_type": "code",
   "execution_count": null,
   "id": "b37dbb60-6164-4e93-bc02-4ce8e90d4d10",
   "metadata": {},
   "outputs": [],
   "source": []
  }
 ],
 "metadata": {
  "kernelspec": {
   "display_name": "Python 3 (ipykernel)",
   "language": "python",
   "name": "python3"
  },
  "language_info": {
   "codemirror_mode": {
    "name": "ipython",
    "version": 3
   },
   "file_extension": ".py",
   "mimetype": "text/x-python",
   "name": "python",
   "nbconvert_exporter": "python",
   "pygments_lexer": "ipython3",
   "version": "3.10.8"
  }
 },
 "nbformat": 4,
 "nbformat_minor": 5
}
