{
 "cells": [
  {
   "cell_type": "code",
   "execution_count": 1,
   "id": "14d89004-5134-42c2-9b09-ebbc50c1b3e3",
   "metadata": {},
   "outputs": [],
   "source": [
    "def selectionSort(arr):\n",
    "    l = len(arr)\n",
    "    for i in range(l):\n",
    "        minNum = i\n",
    "        for j in range(i, l):\n",
    "            if arr[minNum] > arr[j]:\n",
    "                minNum = j\n",
    "        arr[i], arr[minNum] = arr[minNum], arr[i]"
   ]
  },
  {
   "cell_type": "code",
   "execution_count": 2,
   "id": "3a29ba24-c963-4a94-a37b-6abe8de18e64",
   "metadata": {},
   "outputs": [],
   "source": [
    "class Node():\n",
    "    def __init__(self, data, left = None, right = None):\n",
    "        self.data = data\n",
    "        self.left = left\n",
    "        self.right = right\n",
    "\n",
    "class Binarytree():\n",
    "    def __init__(self):\n",
    "        self.root = None\n",
    "    def append(self, data):\n",
    "        if not self.root:\n",
    "            self.root = Node(data)\n",
    "            return\n",
    "        now = self.root\n",
    "        while True:\n",
    "            if data < now.data:\n",
    "                if not now.left:\n",
    "                    now.left = Node(data)\n",
    "                    return\n",
    "                now = now.left\n",
    "            else:\n",
    "                if not now.right:\n",
    "                    now.right = Node(data)\n",
    "                    return\n",
    "                now = now.right\n",
    "\n",
    "def insertSort_usetree(arr):\n",
    "    rtree = Binarytree()\n",
    "    for i in arr:\n",
    "        rtree.append(i)\n",
    "        \n",
    "    result = []\n",
    "    def recursion(now):\n",
    "        if not now:\n",
    "            return\n",
    "        recursion(now.left)\n",
    "        result.append(now.data)\n",
    "        recursion(now.right)\n",
    "        \n",
    "    recursion(rtree.root)\n",
    "    return result                   "
   ]
  },
  {
   "cell_type": "code",
   "execution_count": 3,
   "id": "db52bbe6-ca1a-4a91-a3f7-7e8e303caa98",
   "metadata": {},
   "outputs": [],
   "source": [
    "def insertSort(arr, mode = 0):\n",
    "    result = []\n",
    "    \n",
    "    def findindex_On(data):\n",
    "        for i, d in enumerate(result):\n",
    "            if data < d:\n",
    "                return i\n",
    "        if not result:\n",
    "            return 0\n",
    "        return len(arr)\n",
    "\n",
    "    def findindex_Ologn(data):\n",
    "        if not result:\n",
    "            return 0\n",
    "        start, end, now = 0, len(result), 0\n",
    "        while start < end:\n",
    "            now = (start + end) // 2\n",
    "            if data < result[now]:\n",
    "                end = now - 1\n",
    "            elif data > result[now]:\n",
    "                start = now + 1\n",
    "            else:\n",
    "                return now\n",
    "        if start < 0 or start >= len(result):\n",
    "            return start\n",
    "        elif data < result[start]:\n",
    "            return start\n",
    "        else:\n",
    "            return start + 1\n",
    "\n",
    "    for i in arr:\n",
    "        if mode:\n",
    "            result.insert( findindex_On(i), i )\n",
    "        else:\n",
    "            result.insert( findindex_Ologn(i), i )\n",
    "\n",
    "    return result"
   ]
  },
  {
   "cell_type": "code",
   "execution_count": 4,
   "id": "191c1a9a-8ef5-46b3-85b3-f57ae1aec6f3",
   "metadata": {},
   "outputs": [],
   "source": [
    "def insertSort_2(arr):\n",
    "    l = len(arr)\n",
    "    for i in range(1, l):\n",
    "        for j in range(i, 0, -1):\n",
    "            if arr[j] < arr[j-1]:\n",
    "                arr[j], arr[j-1] = arr[j-1], arr[j]"
   ]
  },
  {
   "cell_type": "code",
   "execution_count": 5,
   "id": "254dab9d-0f7e-42e0-9c11-b126464df530",
   "metadata": {},
   "outputs": [],
   "source": [
    "def bubbleSort(arr):\n",
    "    l = len(arr)\n",
    "    for i in range(1, l):\n",
    "        for j in range(l - i):\n",
    "            if arr[j] > arr[j+1]:\n",
    "                arr[j], arr[j+1] = arr[j+1], arr[j]\n",
    "        "
   ]
  },
  {
   "cell_type": "code",
   "execution_count": 6,
   "id": "a714242a-357c-4e1b-81ae-19d553ae16a5",
   "metadata": {},
   "outputs": [],
   "source": [
    "def quickSort(arr):\n",
    "    result = []\n",
    "    def recursion(arr):\n",
    "        if not arr:\n",
    "            return\n",
    "        if len(arr) == 1:\n",
    "            result.append(arr[0])\n",
    "            return\n",
    "        pivot = len(arr) // 2\n",
    "        temp = [[], [], []]\n",
    "        for i in range(len(arr)):\n",
    "            if i == pivot:\n",
    "                temp[1].append(arr[i])\n",
    "            elif arr[i] < arr[pivot]:\n",
    "                temp[0].append(arr[i])\n",
    "            else:\n",
    "                temp[2].append(arr[i])\n",
    "        for i in temp:\n",
    "            recursion(i)\n",
    "\n",
    "    recursion(arr)\n",
    "    return result\n",
    "\n",
    "def quickSort2(arr):\n",
    "    l = len(arr)\n",
    "    if l <= 1:\n",
    "        return arr\n",
    "    pivot = arr[l // 2]\n",
    "    larr, marr, rarr = [], [], []\n",
    "    for i in arr:\n",
    "        if i < pivot:\n",
    "            larr.append(i)\n",
    "        elif i > pivot:\n",
    "            rarr.append(i)\n",
    "        else: #추가 안할시 남은 게 전부 피벗과 크거나 같을수도 아니면 작거나 같을 수 있어 무한루프 가능성 존재\n",
    "            marr.append(i)\n",
    "    return quickSort2(larr) + marr + quickSort2(rarr)"
   ]
  },
  {
   "cell_type": "code",
   "execution_count": 7,
   "id": "b95b9320-d26f-4fbc-bb01-f63d99534601",
   "metadata": {},
   "outputs": [],
   "source": [
    "def qSort(arr):\n",
    "    \n",
    "    def divide(arr, start, end):\n",
    "        pivot = arr[(start + end) // 2]\n",
    "        print(pivot)\n",
    "        low, high = start, end\n",
    "        while low < high:\n",
    "            while arr[low] < pivot:\n",
    "                low += 1\n",
    "            while arr[high] > pivot:\n",
    "                high -= 1\n",
    "            arr[low], arr[high] = arr[high], arr[low]\n",
    "            #low, high = low + 1, high - 1\n",
    "\n",
    "    divide(arr, 0, len(arr) - 1)\n",
    "\n"
   ]
  },
  {
   "cell_type": "code",
   "execution_count": 8,
   "id": "2e94bddf-c153-4f85-bf93-d744e5dfbc8c",
   "metadata": {},
   "outputs": [
    {
     "name": "stdout",
     "output_type": "stream",
     "text": [
      "[59, 73, 27, 66, 79, 47, 31, 84, 80, 30, 17, 90, 52, 95, 60, 47, 76, 15, 83, 96]\n",
      "30\n",
      "[15, 17, 27, 30, 79, 47, 31, 84, 80, 66, 73, 90, 52, 95, 60, 47, 76, 59, 83, 96]\n"
     ]
    }
   ],
   "source": [
    "import random\n",
    "\n",
    "def main():\n",
    "    test = [random.randint(0, 100) for _ in range(20)]\n",
    "    print(test)\n",
    "    qSort(test)\n",
    "    print(test)\n",
    "\n",
    "main()"
   ]
  },
  {
   "cell_type": "code",
   "execution_count": null,
   "id": "f6e546c4-2615-467c-8f95-ff88ee42a76d",
   "metadata": {},
   "outputs": [],
   "source": []
  },
  {
   "cell_type": "code",
   "execution_count": 9,
   "id": "7644c793-7e74-4868-9c12-9d4ff7d84504",
   "metadata": {},
   "outputs": [
    {
     "data": {
      "text/plain": [
       "[1, 0]"
      ]
     },
     "execution_count": 9,
     "metadata": {},
     "output_type": "execute_result"
    }
   ],
   "source": [
    "a=[0]\n",
    "a.insert(-1,1)\n",
    "a"
   ]
  },
  {
   "cell_type": "code",
   "execution_count": 10,
   "id": "9e41faa4-3406-402d-b368-1c44901124d9",
   "metadata": {},
   "outputs": [
    {
     "name": "stdout",
     "output_type": "stream",
     "text": [
      "3 2\n"
     ]
    },
    {
     "data": {
      "text/plain": [
       "[8, 5, 8, 21, 11, 22, 18, 14, 22, 18]"
      ]
     },
     "execution_count": 10,
     "metadata": {},
     "output_type": "execute_result"
    }
   ],
   "source": [
    "def quickSort3(arr):\n",
    "    def recursion(start, end):\n",
    "        if end - start < 1:\n",
    "            return\n",
    "        pivot = arr[(start + end) // 2]\n",
    "        low, high = start, end\n",
    "        while 1:\n",
    "            while arr[low] < pivot:\n",
    "                low += 1\n",
    "            while arr[high] >= pivot:\n",
    "                high -= 1\n",
    "            if low >= high:\n",
    "                break\n",
    "            arr[low], arr[high] = arr[high], arr[low]\n",
    "            low += 1\n",
    "            high -= 1\n",
    "        #recursion(start, low)\n",
    "        #recursion(low, end)\n",
    "        print(low, high)\n",
    "    recursion(0, len(arr) - 1) \n",
    "\n",
    "test = [random.randint(1,30) for _ in range(10)]\n",
    "quickSort3(test)\n",
    "test"
   ]
  },
  {
   "cell_type": "code",
   "execution_count": 11,
   "id": "c3e1f865-5d8f-488f-b048-26de9c1afff5",
   "metadata": {},
   "outputs": [],
   "source": [
    "def linsearch(arr, data):\n",
    "    for i, d in enumerate(arr):\n",
    "        if data == d:\n",
    "            return i\n",
    "    return -1"
   ]
  },
  {
   "cell_type": "code",
   "execution_count": 12,
   "id": "214cbcde-9c11-4139-a747-a1f37e589d89",
   "metadata": {},
   "outputs": [],
   "source": [
    "def binsearch(arr, data):\n",
    "    start, end = 0, len(arr) - 1\n",
    "    while start <= end:\n",
    "        now = (start + end) // 2\n",
    "        if data < arr[now]:\n",
    "            end = now - 1\n",
    "        elif data > arr[now]:\n",
    "            start = now + 1\n",
    "        else:\n",
    "            return now\n",
    "    return -1"
   ]
  },
  {
   "cell_type": "code",
   "execution_count": 13,
   "id": "542f9cba-c73d-4e72-8d3d-2106cd0995d6",
   "metadata": {},
   "outputs": [
    {
     "name": "stdout",
     "output_type": "stream",
     "text": [
      "[67, 74, 52, 53, 92, 56, 35, 92, 64, 73, 21, 68, 54, 7, 64, 54, 95, 77, 27, 66]\n",
      "[7, 21, 27, 35, 52, 53, 54, 54, 56, 64, 64, 66, 67, 68, 73, 74, 77, 92, 92, 95]\n",
      "-1 -1\n"
     ]
    }
   ],
   "source": [
    "a = [random.randint(0, 100) for _ in range(20)]\n",
    "b = sorted(a)\n",
    "\n",
    "target = 50\n",
    "print(a)\n",
    "print(b)\n",
    "print(linsearch(a, target), binsearch(b, target))"
   ]
  },
  {
   "cell_type": "code",
   "execution_count": null,
   "id": "ed41310b-cf3b-4f3d-ba8c-ae26144f5de0",
   "metadata": {},
   "outputs": [],
   "source": []
  },
  {
   "cell_type": "code",
   "execution_count": null,
   "id": "9339e127-6946-42e9-b48b-c6a99139a0ab",
   "metadata": {},
   "outputs": [],
   "source": []
  }
 ],
 "metadata": {
  "kernelspec": {
   "display_name": "Python 3 (ipykernel)",
   "language": "python",
   "name": "python3"
  },
  "language_info": {
   "codemirror_mode": {
    "name": "ipython",
    "version": 3
   },
   "file_extension": ".py",
   "mimetype": "text/x-python",
   "name": "python",
   "nbconvert_exporter": "python",
   "pygments_lexer": "ipython3",
   "version": "3.12.3"
  }
 },
 "nbformat": 4,
 "nbformat_minor": 5
}
